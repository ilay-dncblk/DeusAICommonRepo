{
 "cells": [
  {
   "cell_type": "markdown",
   "id": "489a875f-d841-4016-bd8b-64656c554caf",
   "metadata": {},
   "source": [
    "## SOCIAL MEDIA SENTIMENTS ANALYSIS DATASET - SOSYAL MEDYA DUYGU ANALİZİ VERİ SETİ"
   ]
  },
  {
   "cell_type": "code",
   "execution_count": 1,
   "id": "c638f517-9bef-41ca-8e5a-fefc9385d3fd",
   "metadata": {},
   "outputs": [],
   "source": [
    "import pandas as pd\n",
    "import numpy as np\n",
    "import matplotlib.pyplot as plt\n",
    "import seaborn as sbn"
   ]
  },
  {
   "cell_type": "code",
   "execution_count": 2,
   "id": "8023727e-38a4-477a-86bd-f78ee050041c",
   "metadata": {},
   "outputs": [],
   "source": [
    "dataFrame=pd.read_csv(\"https://raw.githubusercontent.com/ilay-dncblk/DeusAICommonRepo/Sena-Aziz/SenaVeAzizProje/sentimentdataset.csv\")"
   ]
  },
  {
   "cell_type": "code",
   "execution_count": 3,
   "id": "1c3a2700-a884-4a84-9a64-748d3c44454f",
   "metadata": {},
   "outputs": [
    {
     "data": {
      "text/html": [
       "<div>\n",
       "<style scoped>\n",
       "    .dataframe tbody tr th:only-of-type {\n",
       "        vertical-align: middle;\n",
       "    }\n",
       "\n",
       "    .dataframe tbody tr th {\n",
       "        vertical-align: top;\n",
       "    }\n",
       "\n",
       "    .dataframe thead th {\n",
       "        text-align: right;\n",
       "    }\n",
       "</style>\n",
       "<table border=\"1\" class=\"dataframe\">\n",
       "  <thead>\n",
       "    <tr style=\"text-align: right;\">\n",
       "      <th></th>\n",
       "      <th>Unnamed: 0.1</th>\n",
       "      <th>Unnamed: 0</th>\n",
       "      <th>Text</th>\n",
       "      <th>Sentiment</th>\n",
       "      <th>Timestamp</th>\n",
       "      <th>User</th>\n",
       "      <th>Platform</th>\n",
       "      <th>Hashtags</th>\n",
       "      <th>Retweets</th>\n",
       "      <th>Likes</th>\n",
       "      <th>Country</th>\n",
       "      <th>Year</th>\n",
       "      <th>Month</th>\n",
       "      <th>Day</th>\n",
       "      <th>Hour</th>\n",
       "    </tr>\n",
       "  </thead>\n",
       "  <tbody>\n",
       "    <tr>\n",
       "      <th>0</th>\n",
       "      <td>0</td>\n",
       "      <td>0</td>\n",
       "      <td>Enjoying a beautiful day at the park!        ...</td>\n",
       "      <td>Positive</td>\n",
       "      <td>2023-01-15 12:30:00</td>\n",
       "      <td>User123</td>\n",
       "      <td>Twitter</td>\n",
       "      <td>#Nature #Park</td>\n",
       "      <td>15.0</td>\n",
       "      <td>30.0</td>\n",
       "      <td>USA</td>\n",
       "      <td>2023</td>\n",
       "      <td>1</td>\n",
       "      <td>15</td>\n",
       "      <td>12</td>\n",
       "    </tr>\n",
       "    <tr>\n",
       "      <th>1</th>\n",
       "      <td>1</td>\n",
       "      <td>1</td>\n",
       "      <td>Traffic was terrible this morning.           ...</td>\n",
       "      <td>Negative</td>\n",
       "      <td>2023-01-15 08:45:00</td>\n",
       "      <td>CommuterX</td>\n",
       "      <td>Twitter</td>\n",
       "      <td>#Traffic #Morning</td>\n",
       "      <td>5.0</td>\n",
       "      <td>10.0</td>\n",
       "      <td>Canada</td>\n",
       "      <td>2023</td>\n",
       "      <td>1</td>\n",
       "      <td>15</td>\n",
       "      <td>8</td>\n",
       "    </tr>\n",
       "    <tr>\n",
       "      <th>2</th>\n",
       "      <td>2</td>\n",
       "      <td>2</td>\n",
       "      <td>Just finished an amazing workout! 💪          ...</td>\n",
       "      <td>Positive</td>\n",
       "      <td>2023-01-15 15:45:00</td>\n",
       "      <td>FitnessFan</td>\n",
       "      <td>Instagram</td>\n",
       "      <td>#Fitness #Workout</td>\n",
       "      <td>20.0</td>\n",
       "      <td>40.0</td>\n",
       "      <td>USA</td>\n",
       "      <td>2023</td>\n",
       "      <td>1</td>\n",
       "      <td>15</td>\n",
       "      <td>15</td>\n",
       "    </tr>\n",
       "    <tr>\n",
       "      <th>3</th>\n",
       "      <td>3</td>\n",
       "      <td>3</td>\n",
       "      <td>Excited about the upcoming weekend getaway!  ...</td>\n",
       "      <td>Positive</td>\n",
       "      <td>2023-01-15 18:20:00</td>\n",
       "      <td>AdventureX</td>\n",
       "      <td>Facebook</td>\n",
       "      <td>#Travel #Adventure</td>\n",
       "      <td>8.0</td>\n",
       "      <td>15.0</td>\n",
       "      <td>UK</td>\n",
       "      <td>2023</td>\n",
       "      <td>1</td>\n",
       "      <td>15</td>\n",
       "      <td>18</td>\n",
       "    </tr>\n",
       "    <tr>\n",
       "      <th>4</th>\n",
       "      <td>4</td>\n",
       "      <td>4</td>\n",
       "      <td>Trying out a new recipe for dinner tonight.  ...</td>\n",
       "      <td>Neutral</td>\n",
       "      <td>2023-01-15 19:55:00</td>\n",
       "      <td>ChefCook</td>\n",
       "      <td>Instagram</td>\n",
       "      <td>#Cooking #Food</td>\n",
       "      <td>12.0</td>\n",
       "      <td>25.0</td>\n",
       "      <td>Australia</td>\n",
       "      <td>2023</td>\n",
       "      <td>1</td>\n",
       "      <td>15</td>\n",
       "      <td>19</td>\n",
       "    </tr>\n",
       "  </tbody>\n",
       "</table>\n",
       "</div>"
      ],
      "text/plain": [
       "   Unnamed: 0.1  Unnamed: 0  \\\n",
       "0             0           0   \n",
       "1             1           1   \n",
       "2             2           2   \n",
       "3             3           3   \n",
       "4             4           4   \n",
       "\n",
       "                                                Text    Sentiment  \\\n",
       "0   Enjoying a beautiful day at the park!        ...   Positive     \n",
       "1   Traffic was terrible this morning.           ...   Negative     \n",
       "2   Just finished an amazing workout! 💪          ...   Positive     \n",
       "3   Excited about the upcoming weekend getaway!  ...   Positive     \n",
       "4   Trying out a new recipe for dinner tonight.  ...   Neutral      \n",
       "\n",
       "             Timestamp            User     Platform  \\\n",
       "0  2023-01-15 12:30:00   User123          Twitter     \n",
       "1  2023-01-15 08:45:00   CommuterX        Twitter     \n",
       "2  2023-01-15 15:45:00   FitnessFan      Instagram    \n",
       "3  2023-01-15 18:20:00   AdventureX       Facebook    \n",
       "4  2023-01-15 19:55:00   ChefCook        Instagram    \n",
       "\n",
       "                                     Hashtags  Retweets  Likes       Country  \\\n",
       "0   #Nature #Park                                  15.0   30.0     USA         \n",
       "1   #Traffic #Morning                               5.0   10.0     Canada      \n",
       "2   #Fitness #Workout                              20.0   40.0   USA           \n",
       "3   #Travel #Adventure                              8.0   15.0     UK          \n",
       "4   #Cooking #Food                                 12.0   25.0    Australia    \n",
       "\n",
       "   Year  Month  Day  Hour  \n",
       "0  2023      1   15    12  \n",
       "1  2023      1   15     8  \n",
       "2  2023      1   15    15  \n",
       "3  2023      1   15    18  \n",
       "4  2023      1   15    19  "
      ]
     },
     "execution_count": 3,
     "metadata": {},
     "output_type": "execute_result"
    }
   ],
   "source": [
    "dataFrame.head()"
   ]
  },
  {
   "cell_type": "markdown",
   "id": "d42f7285-7642-44c4-9c48-8a7398a99249",
   "metadata": {},
   "source": [
    "## Removing columns containing numeric data - Sayısal veri içeren sütunları kaldırma"
   ]
  },
  {
   "cell_type": "code",
   "execution_count": 4,
   "id": "7391ede8-6224-4559-bcd2-62d8bcc68baa",
   "metadata": {},
   "outputs": [],
   "source": [
    "dataFrame = dataFrame.drop([\"Unnamed: 0.1\", \"Unnamed: 0\", \"Timestamp\", \"Retweets\", \"Likes\", \"Year\", \"Month\", \"Day\", \"Hour\"], axis=1)"
   ]
  },
  {
   "cell_type": "code",
   "execution_count": 5,
   "id": "4b45fd15-d23d-41cb-9139-c0539eaec02c",
   "metadata": {},
   "outputs": [
    {
     "data": {
      "text/html": [
       "<div>\n",
       "<style scoped>\n",
       "    .dataframe tbody tr th:only-of-type {\n",
       "        vertical-align: middle;\n",
       "    }\n",
       "\n",
       "    .dataframe tbody tr th {\n",
       "        vertical-align: top;\n",
       "    }\n",
       "\n",
       "    .dataframe thead th {\n",
       "        text-align: right;\n",
       "    }\n",
       "</style>\n",
       "<table border=\"1\" class=\"dataframe\">\n",
       "  <thead>\n",
       "    <tr style=\"text-align: right;\">\n",
       "      <th></th>\n",
       "      <th>Text</th>\n",
       "      <th>Sentiment</th>\n",
       "      <th>User</th>\n",
       "      <th>Platform</th>\n",
       "      <th>Hashtags</th>\n",
       "      <th>Country</th>\n",
       "    </tr>\n",
       "  </thead>\n",
       "  <tbody>\n",
       "    <tr>\n",
       "      <th>0</th>\n",
       "      <td>Enjoying a beautiful day at the park!        ...</td>\n",
       "      <td>Positive</td>\n",
       "      <td>User123</td>\n",
       "      <td>Twitter</td>\n",
       "      <td>#Nature #Park</td>\n",
       "      <td>USA</td>\n",
       "    </tr>\n",
       "    <tr>\n",
       "      <th>1</th>\n",
       "      <td>Traffic was terrible this morning.           ...</td>\n",
       "      <td>Negative</td>\n",
       "      <td>CommuterX</td>\n",
       "      <td>Twitter</td>\n",
       "      <td>#Traffic #Morning</td>\n",
       "      <td>Canada</td>\n",
       "    </tr>\n",
       "    <tr>\n",
       "      <th>2</th>\n",
       "      <td>Just finished an amazing workout! 💪          ...</td>\n",
       "      <td>Positive</td>\n",
       "      <td>FitnessFan</td>\n",
       "      <td>Instagram</td>\n",
       "      <td>#Fitness #Workout</td>\n",
       "      <td>USA</td>\n",
       "    </tr>\n",
       "    <tr>\n",
       "      <th>3</th>\n",
       "      <td>Excited about the upcoming weekend getaway!  ...</td>\n",
       "      <td>Positive</td>\n",
       "      <td>AdventureX</td>\n",
       "      <td>Facebook</td>\n",
       "      <td>#Travel #Adventure</td>\n",
       "      <td>UK</td>\n",
       "    </tr>\n",
       "    <tr>\n",
       "      <th>4</th>\n",
       "      <td>Trying out a new recipe for dinner tonight.  ...</td>\n",
       "      <td>Neutral</td>\n",
       "      <td>ChefCook</td>\n",
       "      <td>Instagram</td>\n",
       "      <td>#Cooking #Food</td>\n",
       "      <td>Australia</td>\n",
       "    </tr>\n",
       "  </tbody>\n",
       "</table>\n",
       "</div>"
      ],
      "text/plain": [
       "                                                Text    Sentiment  \\\n",
       "0   Enjoying a beautiful day at the park!        ...   Positive     \n",
       "1   Traffic was terrible this morning.           ...   Negative     \n",
       "2   Just finished an amazing workout! 💪          ...   Positive     \n",
       "3   Excited about the upcoming weekend getaway!  ...   Positive     \n",
       "4   Trying out a new recipe for dinner tonight.  ...   Neutral      \n",
       "\n",
       "             User     Platform                                    Hashtags  \\\n",
       "0   User123          Twitter     #Nature #Park                               \n",
       "1   CommuterX        Twitter     #Traffic #Morning                           \n",
       "2   FitnessFan      Instagram    #Fitness #Workout                           \n",
       "3   AdventureX       Facebook    #Travel #Adventure                          \n",
       "4   ChefCook        Instagram    #Cooking #Food                              \n",
       "\n",
       "        Country  \n",
       "0     USA        \n",
       "1     Canada     \n",
       "2   USA          \n",
       "3     UK         \n",
       "4    Australia   "
      ]
     },
     "execution_count": 5,
     "metadata": {},
     "output_type": "execute_result"
    }
   ],
   "source": [
    "dataFrame.head()"
   ]
  },
  {
   "cell_type": "markdown",
   "id": "9c7fe4fe-d121-41ab-90a6-11450d8a84fa",
   "metadata": {},
   "source": [
    "## Writing words in lower case - Kelimeleri küçük harfle yazma"
   ]
  },
  {
   "cell_type": "code",
   "execution_count": 6,
   "id": "82a6fa3f-62bd-4c74-9bd0-90df298a2026",
   "metadata": {},
   "outputs": [],
   "source": [
    "dataFrame[\"Text\"] = dataFrame[\"Text\"].str.lower()"
   ]
  },
  {
   "cell_type": "code",
   "execution_count": 7,
   "id": "905c55be-608b-4dfd-a0ee-2726901f3085",
   "metadata": {},
   "outputs": [],
   "source": [
    "dataFrame[\"Sentiment\"] = dataFrame[\"Sentiment\"].str.lower()"
   ]
  },
  {
   "cell_type": "code",
   "execution_count": 8,
   "id": "b99f966f-4bcc-4a03-a175-701e2c398c3b",
   "metadata": {},
   "outputs": [],
   "source": [
    "dataFrame[\"User\"] = dataFrame[\"User\"].str.lower()"
   ]
  },
  {
   "cell_type": "code",
   "execution_count": 9,
   "id": "fda2a23c-7869-4c12-b2e9-3d8e36b0d885",
   "metadata": {},
   "outputs": [],
   "source": [
    "dataFrame[\"Platform\"] = dataFrame[\"Platform\"].str.lower()"
   ]
  },
  {
   "cell_type": "code",
   "execution_count": 10,
   "id": "e786ec74-e676-427f-baba-a202aeabaf62",
   "metadata": {},
   "outputs": [],
   "source": [
    "dataFrame[\"Hashtags\"] = dataFrame[\"Hashtags\"].str.lower()"
   ]
  },
  {
   "cell_type": "code",
   "execution_count": 11,
   "id": "fe8f54a8-2b8f-4d23-8d79-1172336861be",
   "metadata": {},
   "outputs": [],
   "source": [
    "dataFrame[\"Country\"] = dataFrame[\"Country\"].str.lower()"
   ]
  },
  {
   "cell_type": "code",
   "execution_count": 12,
   "id": "52d9d0ca-bdf9-4e1e-a5b3-610a533944e8",
   "metadata": {},
   "outputs": [
    {
     "data": {
      "text/html": [
       "<div>\n",
       "<style scoped>\n",
       "    .dataframe tbody tr th:only-of-type {\n",
       "        vertical-align: middle;\n",
       "    }\n",
       "\n",
       "    .dataframe tbody tr th {\n",
       "        vertical-align: top;\n",
       "    }\n",
       "\n",
       "    .dataframe thead th {\n",
       "        text-align: right;\n",
       "    }\n",
       "</style>\n",
       "<table border=\"1\" class=\"dataframe\">\n",
       "  <thead>\n",
       "    <tr style=\"text-align: right;\">\n",
       "      <th></th>\n",
       "      <th>Text</th>\n",
       "      <th>Sentiment</th>\n",
       "      <th>User</th>\n",
       "      <th>Platform</th>\n",
       "      <th>Hashtags</th>\n",
       "      <th>Country</th>\n",
       "    </tr>\n",
       "  </thead>\n",
       "  <tbody>\n",
       "    <tr>\n",
       "      <th>0</th>\n",
       "      <td>enjoying a beautiful day at the park!        ...</td>\n",
       "      <td>positive</td>\n",
       "      <td>user123</td>\n",
       "      <td>twitter</td>\n",
       "      <td>#nature #park</td>\n",
       "      <td>usa</td>\n",
       "    </tr>\n",
       "    <tr>\n",
       "      <th>1</th>\n",
       "      <td>traffic was terrible this morning.           ...</td>\n",
       "      <td>negative</td>\n",
       "      <td>commuterx</td>\n",
       "      <td>twitter</td>\n",
       "      <td>#traffic #morning</td>\n",
       "      <td>canada</td>\n",
       "    </tr>\n",
       "    <tr>\n",
       "      <th>2</th>\n",
       "      <td>just finished an amazing workout! 💪          ...</td>\n",
       "      <td>positive</td>\n",
       "      <td>fitnessfan</td>\n",
       "      <td>instagram</td>\n",
       "      <td>#fitness #workout</td>\n",
       "      <td>usa</td>\n",
       "    </tr>\n",
       "    <tr>\n",
       "      <th>3</th>\n",
       "      <td>excited about the upcoming weekend getaway!  ...</td>\n",
       "      <td>positive</td>\n",
       "      <td>adventurex</td>\n",
       "      <td>facebook</td>\n",
       "      <td>#travel #adventure</td>\n",
       "      <td>uk</td>\n",
       "    </tr>\n",
       "    <tr>\n",
       "      <th>4</th>\n",
       "      <td>trying out a new recipe for dinner tonight.  ...</td>\n",
       "      <td>neutral</td>\n",
       "      <td>chefcook</td>\n",
       "      <td>instagram</td>\n",
       "      <td>#cooking #food</td>\n",
       "      <td>australia</td>\n",
       "    </tr>\n",
       "  </tbody>\n",
       "</table>\n",
       "</div>"
      ],
      "text/plain": [
       "                                                Text    Sentiment  \\\n",
       "0   enjoying a beautiful day at the park!        ...   positive     \n",
       "1   traffic was terrible this morning.           ...   negative     \n",
       "2   just finished an amazing workout! 💪          ...   positive     \n",
       "3   excited about the upcoming weekend getaway!  ...   positive     \n",
       "4   trying out a new recipe for dinner tonight.  ...   neutral      \n",
       "\n",
       "             User     Platform                                    Hashtags  \\\n",
       "0   user123          twitter     #nature #park                               \n",
       "1   commuterx        twitter     #traffic #morning                           \n",
       "2   fitnessfan      instagram    #fitness #workout                           \n",
       "3   adventurex       facebook    #travel #adventure                          \n",
       "4   chefcook        instagram    #cooking #food                              \n",
       "\n",
       "        Country  \n",
       "0     usa        \n",
       "1     canada     \n",
       "2   usa          \n",
       "3     uk         \n",
       "4    australia   "
      ]
     },
     "execution_count": 12,
     "metadata": {},
     "output_type": "execute_result"
    }
   ],
   "source": [
    "dataFrame.head()"
   ]
  },
  {
   "cell_type": "markdown",
   "id": "b7ce6d0f-e8aa-416b-9846-ba404d52ebe3",
   "metadata": {},
   "source": [
    "## Remove punctuation marks - Noktalama işaretlerini kaldırma"
   ]
  },
  {
   "cell_type": "code",
   "execution_count": 13,
   "id": "103f5eed-c15e-4573-a0a7-5f2f98394ddb",
   "metadata": {},
   "outputs": [],
   "source": [
    "import re"
   ]
  },
  {
   "cell_type": "code",
   "execution_count": 14,
   "id": "9f045227-bdd2-4f12-a2f7-1cc99484109d",
   "metadata": {},
   "outputs": [],
   "source": [
    "dataFrame[\"Text\"] = dataFrame[\"Text\"].str.strip()"
   ]
  },
  {
   "cell_type": "code",
   "execution_count": 15,
   "id": "73aa1186-fb48-4346-918c-e87e09b2149c",
   "metadata": {},
   "outputs": [],
   "source": [
    "punctuation_pattern = re.compile(r\"[^\\w\\s]\", re.UNICODE)\n",
    "dataFrame[\"Text\"] = dataFrame[\"Text\"].apply(lambda x: punctuation_pattern.sub(\"\", x))"
   ]
  },
  {
   "cell_type": "code",
   "execution_count": 16,
   "id": "1be3dd57-1b54-4b0d-a2ff-dd182d6497cc",
   "metadata": {},
   "outputs": [],
   "source": [
    "punctuation_pattern = re.compile(r\"[^\\w\\s]\", re.UNICODE)\n",
    "dataFrame[\"Hashtags\"] = dataFrame[\"Hashtags\"].apply(lambda x: punctuation_pattern.sub(\"\", x))"
   ]
  },
  {
   "cell_type": "code",
   "execution_count": 17,
   "id": "43d50962-e359-446f-86a0-d7fda27ca1f2",
   "metadata": {},
   "outputs": [
    {
     "data": {
      "text/html": [
       "<div>\n",
       "<style scoped>\n",
       "    .dataframe tbody tr th:only-of-type {\n",
       "        vertical-align: middle;\n",
       "    }\n",
       "\n",
       "    .dataframe tbody tr th {\n",
       "        vertical-align: top;\n",
       "    }\n",
       "\n",
       "    .dataframe thead th {\n",
       "        text-align: right;\n",
       "    }\n",
       "</style>\n",
       "<table border=\"1\" class=\"dataframe\">\n",
       "  <thead>\n",
       "    <tr style=\"text-align: right;\">\n",
       "      <th></th>\n",
       "      <th>Text</th>\n",
       "      <th>Sentiment</th>\n",
       "      <th>User</th>\n",
       "      <th>Platform</th>\n",
       "      <th>Hashtags</th>\n",
       "      <th>Country</th>\n",
       "    </tr>\n",
       "  </thead>\n",
       "  <tbody>\n",
       "    <tr>\n",
       "      <th>0</th>\n",
       "      <td>enjoying a beautiful day at the park</td>\n",
       "      <td>positive</td>\n",
       "      <td>user123</td>\n",
       "      <td>twitter</td>\n",
       "      <td>nature park</td>\n",
       "      <td>usa</td>\n",
       "    </tr>\n",
       "    <tr>\n",
       "      <th>1</th>\n",
       "      <td>traffic was terrible this morning</td>\n",
       "      <td>negative</td>\n",
       "      <td>commuterx</td>\n",
       "      <td>twitter</td>\n",
       "      <td>traffic morning</td>\n",
       "      <td>canada</td>\n",
       "    </tr>\n",
       "    <tr>\n",
       "      <th>2</th>\n",
       "      <td>just finished an amazing workout</td>\n",
       "      <td>positive</td>\n",
       "      <td>fitnessfan</td>\n",
       "      <td>instagram</td>\n",
       "      <td>fitness workout</td>\n",
       "      <td>usa</td>\n",
       "    </tr>\n",
       "    <tr>\n",
       "      <th>3</th>\n",
       "      <td>excited about the upcoming weekend getaway</td>\n",
       "      <td>positive</td>\n",
       "      <td>adventurex</td>\n",
       "      <td>facebook</td>\n",
       "      <td>travel adventure</td>\n",
       "      <td>uk</td>\n",
       "    </tr>\n",
       "    <tr>\n",
       "      <th>4</th>\n",
       "      <td>trying out a new recipe for dinner tonight</td>\n",
       "      <td>neutral</td>\n",
       "      <td>chefcook</td>\n",
       "      <td>instagram</td>\n",
       "      <td>cooking food</td>\n",
       "      <td>australia</td>\n",
       "    </tr>\n",
       "  </tbody>\n",
       "</table>\n",
       "</div>"
      ],
      "text/plain": [
       "                                         Text    Sentiment            User  \\\n",
       "0        enjoying a beautiful day at the park   positive     user123         \n",
       "1           traffic was terrible this morning   negative     commuterx       \n",
       "2           just finished an amazing workout    positive     fitnessfan      \n",
       "3  excited about the upcoming weekend getaway   positive     adventurex      \n",
       "4  trying out a new recipe for dinner tonight   neutral      chefcook        \n",
       "\n",
       "      Platform                                  Hashtags       Country  \n",
       "0    twitter     nature park                                 usa        \n",
       "1    twitter     traffic morning                             canada     \n",
       "2   instagram    fitness workout                           usa          \n",
       "3    facebook    travel adventure                            uk         \n",
       "4   instagram    cooking food                               australia   "
      ]
     },
     "execution_count": 17,
     "metadata": {},
     "output_type": "execute_result"
    }
   ],
   "source": [
    "dataFrame.head()"
   ]
  },
  {
   "cell_type": "markdown",
   "id": "483d4eac-4c02-417b-a2b0-c04f1994f857",
   "metadata": {},
   "source": [
    "## Data Augmentation Process - Veri Arttırma İşlemi"
   ]
  },
  {
   "cell_type": "code",
   "execution_count": 18,
   "id": "dd9766fd-48d1-4e86-ba86-feab7319565d",
   "metadata": {},
   "outputs": [],
   "source": [
    "import nltk\n",
    "from nltk.tokenize import word_tokenize\n",
    "import random\n",
    "from nltk.corpus import stopwords\n",
    "from nltk.corpus import wordnet\n",
    "#nltk.download('averaged_perceptron_tagger_eng')"
   ]
  },
  {
   "cell_type": "code",
   "execution_count": 19,
   "id": "b12ab112-2e0b-4449-8292-a44424d85735",
   "metadata": {},
   "outputs": [
    {
     "name": "stdout",
     "output_type": "stream",
     "text": [
      "['enjoying', 'a', 'beautiful', 'day', 'at', 'the', 'park']\n"
     ]
    }
   ],
   "source": [
    "#cümleleri token haline getirme\n",
    "kelime=word_tokenize(dataFrame.Text[0])\n",
    "print(kelime)"
   ]
  },
  {
   "cell_type": "code",
   "execution_count": 20,
   "id": "2080ed13-d938-4fc2-9ecc-76eec2e198f3",
   "metadata": {},
   "outputs": [
    {
     "data": {
      "text/plain": [
       "['i',\n",
       " 'me',\n",
       " 'my',\n",
       " 'myself',\n",
       " 'we',\n",
       " 'our',\n",
       " 'ours',\n",
       " 'ourselves',\n",
       " 'you',\n",
       " \"you're\",\n",
       " \"you've\",\n",
       " \"you'll\",\n",
       " \"you'd\",\n",
       " 'your',\n",
       " 'yours',\n",
       " 'yourself',\n",
       " 'yourselves',\n",
       " 'he',\n",
       " 'him',\n",
       " 'his']"
      ]
     },
     "execution_count": 20,
     "metadata": {},
     "output_type": "execute_result"
    }
   ],
   "source": [
    "stop_words=list(stopwords.words('english'))\n",
    "#stopwords = tek başına etkisiz olan kelimelerdir. bunları temel model eğitimlerinde çıkarırız.\n",
    "stop_words[:20]"
   ]
  },
  {
   "cell_type": "code",
   "execution_count": 21,
   "id": "c241a5b6-0b8b-41ce-b6ec-806ecd787dd3",
   "metadata": {},
   "outputs": [
    {
     "data": {
      "text/html": [
       "<div>\n",
       "<style scoped>\n",
       "    .dataframe tbody tr th:only-of-type {\n",
       "        vertical-align: middle;\n",
       "    }\n",
       "\n",
       "    .dataframe tbody tr th {\n",
       "        vertical-align: top;\n",
       "    }\n",
       "\n",
       "    .dataframe thead th {\n",
       "        text-align: right;\n",
       "    }\n",
       "</style>\n",
       "<table border=\"1\" class=\"dataframe\">\n",
       "  <thead>\n",
       "    <tr style=\"text-align: right;\">\n",
       "      <th></th>\n",
       "      <th>Text</th>\n",
       "      <th>Sentiment</th>\n",
       "      <th>User</th>\n",
       "      <th>Platform</th>\n",
       "      <th>Hashtags</th>\n",
       "      <th>Country</th>\n",
       "    </tr>\n",
       "  </thead>\n",
       "  <tbody>\n",
       "    <tr>\n",
       "      <th>0</th>\n",
       "      <td>enjoying beautiful day park</td>\n",
       "      <td>positive</td>\n",
       "      <td>user123</td>\n",
       "      <td>twitter</td>\n",
       "      <td>nature park</td>\n",
       "      <td>usa</td>\n",
       "    </tr>\n",
       "    <tr>\n",
       "      <th>1</th>\n",
       "      <td>traffic terrible morning</td>\n",
       "      <td>negative</td>\n",
       "      <td>commuterx</td>\n",
       "      <td>twitter</td>\n",
       "      <td>traffic morning</td>\n",
       "      <td>canada</td>\n",
       "    </tr>\n",
       "    <tr>\n",
       "      <th>2</th>\n",
       "      <td>finished amazing workout</td>\n",
       "      <td>positive</td>\n",
       "      <td>fitnessfan</td>\n",
       "      <td>instagram</td>\n",
       "      <td>fitness workout</td>\n",
       "      <td>usa</td>\n",
       "    </tr>\n",
       "    <tr>\n",
       "      <th>3</th>\n",
       "      <td>excited upcoming weekend getaway</td>\n",
       "      <td>positive</td>\n",
       "      <td>adventurex</td>\n",
       "      <td>facebook</td>\n",
       "      <td>travel adventure</td>\n",
       "      <td>uk</td>\n",
       "    </tr>\n",
       "    <tr>\n",
       "      <th>4</th>\n",
       "      <td>trying new recipe dinner tonight</td>\n",
       "      <td>neutral</td>\n",
       "      <td>chefcook</td>\n",
       "      <td>instagram</td>\n",
       "      <td>cooking food</td>\n",
       "      <td>australia</td>\n",
       "    </tr>\n",
       "    <tr>\n",
       "      <th>...</th>\n",
       "      <td>...</td>\n",
       "      <td>...</td>\n",
       "      <td>...</td>\n",
       "      <td>...</td>\n",
       "      <td>...</td>\n",
       "      <td>...</td>\n",
       "    </tr>\n",
       "    <tr>\n",
       "      <th>727</th>\n",
       "      <td>collaborating science project received recogni...</td>\n",
       "      <td>happy</td>\n",
       "      <td>scienceprojectsuccesshighschool</td>\n",
       "      <td>facebook</td>\n",
       "      <td>sciencefairwinner highschoolscience</td>\n",
       "      <td>uk</td>\n",
       "    </tr>\n",
       "    <tr>\n",
       "      <th>728</th>\n",
       "      <td>attending surprise birthday party organized fr...</td>\n",
       "      <td>happy</td>\n",
       "      <td>birthdaypartyjoyhighschool</td>\n",
       "      <td>instagram</td>\n",
       "      <td>surprisecelebration highschoolfriendship</td>\n",
       "      <td>usa</td>\n",
       "    </tr>\n",
       "    <tr>\n",
       "      <th>729</th>\n",
       "      <td>successfully fundraising school charity initia...</td>\n",
       "      <td>happy</td>\n",
       "      <td>charityfundraisingtriumphhighschool</td>\n",
       "      <td>twitter</td>\n",
       "      <td>communitygiving highschoolphilanthropy</td>\n",
       "      <td>canada</td>\n",
       "    </tr>\n",
       "    <tr>\n",
       "      <th>730</th>\n",
       "      <td>participating multicultural festival celebrati...</td>\n",
       "      <td>happy</td>\n",
       "      <td>multiculturalfestivaljoyhighschool</td>\n",
       "      <td>facebook</td>\n",
       "      <td>culturalcelebration highschoolunity</td>\n",
       "      <td>uk</td>\n",
       "    </tr>\n",
       "    <tr>\n",
       "      <th>731</th>\n",
       "      <td>organizing virtual talent show challenging tim...</td>\n",
       "      <td>happy</td>\n",
       "      <td>virtualtalentshowsuccesshighschool</td>\n",
       "      <td>instagram</td>\n",
       "      <td>virtualentertainment highschoolpositivity</td>\n",
       "      <td>usa</td>\n",
       "    </tr>\n",
       "  </tbody>\n",
       "</table>\n",
       "<p>732 rows × 6 columns</p>\n",
       "</div>"
      ],
      "text/plain": [
       "                                                  Text    Sentiment  \\\n",
       "0                          enjoying beautiful day park   positive     \n",
       "1                             traffic terrible morning   negative     \n",
       "2                             finished amazing workout   positive     \n",
       "3                     excited upcoming weekend getaway   positive     \n",
       "4                     trying new recipe dinner tonight   neutral      \n",
       "..                                                 ...          ...   \n",
       "727  collaborating science project received recogni...       happy    \n",
       "728  attending surprise birthday party organized fr...       happy    \n",
       "729  successfully fundraising school charity initia...       happy    \n",
       "730  participating multicultural festival celebrati...       happy    \n",
       "731  organizing virtual talent show challenging tim...       happy    \n",
       "\n",
       "                                      User     Platform  \\\n",
       "0                            user123          twitter     \n",
       "1                            commuterx        twitter     \n",
       "2                            fitnessfan      instagram    \n",
       "3                            adventurex       facebook    \n",
       "4                            chefcook        instagram    \n",
       "..                                     ...          ...   \n",
       "727       scienceprojectsuccesshighschool     facebook    \n",
       "728            birthdaypartyjoyhighschool    instagram    \n",
       "729   charityfundraisingtriumphhighschool      twitter    \n",
       "730    multiculturalfestivaljoyhighschool     facebook    \n",
       "731    virtualtalentshowsuccesshighschool    instagram    \n",
       "\n",
       "                                        Hashtags       Country  \n",
       "0        nature park                                 usa        \n",
       "1        traffic morning                             canada     \n",
       "2        fitness workout                           usa          \n",
       "3        travel adventure                            uk         \n",
       "4        cooking food                               australia   \n",
       "..                                           ...           ...  \n",
       "727         sciencefairwinner highschoolscience             uk  \n",
       "728    surprisecelebration highschoolfriendship            usa  \n",
       "729      communitygiving highschoolphilanthropy         canada  \n",
       "730         culturalcelebration highschoolunity             uk  \n",
       "731   virtualentertainment highschoolpositivity            usa  \n",
       "\n",
       "[732 rows x 6 columns]"
      ]
     },
     "execution_count": 21,
     "metadata": {},
     "output_type": "execute_result"
    }
   ],
   "source": [
    "#gereksiz olan stopwordleri kaldırıyoruz\n",
    "def remove_stopwords(text):\n",
    "    words = text.split()\n",
    "    filtered_words = [word for word in words if word.lower() not in stop_words]\n",
    "    return ' '.join(filtered_words)\n",
    "\n",
    "dataFrame['Text'] = dataFrame['Text'].apply(remove_stopwords)\n",
    "dataFrame"
   ]
  },
  {
   "cell_type": "code",
   "execution_count": 22,
   "id": "0f87d771-daf2-40f4-8c67-2af40eb8bfc1",
   "metadata": {},
   "outputs": [
    {
     "data": {
      "text/plain": [
       "[Synset('walk.n.01'),\n",
       " Synset('base_on_balls.n.01'),\n",
       " Synset('walk.n.03'),\n",
       " Synset('walk.n.04'),\n",
       " Synset('walk.n.05'),\n",
       " Synset('walk.n.06'),\n",
       " Synset('walk_of_life.n.01'),\n",
       " Synset('walk.v.01'),\n",
       " Synset('walk.v.02'),\n",
       " Synset('walk.v.03'),\n",
       " Synset('walk.v.04'),\n",
       " Synset('walk.v.05'),\n",
       " Synset('walk.v.06'),\n",
       " Synset('walk.v.07'),\n",
       " Synset('walk.v.08'),\n",
       " Synset('walk.v.09'),\n",
       " Synset('walk.v.10')]"
      ]
     },
     "execution_count": 22,
     "metadata": {},
     "output_type": "execute_result"
    }
   ],
   "source": [
    "#kelimelerin eş anlamlıları ve halleri \n",
    "ornek1 = wordnet.synsets(\"walk\") \n",
    "ornek1 #örneğin kelimenin  1. 2. veya 3. numaraları anlamlarını ve noun,verb,adjective vs. olma durumunu gösterir"
   ]
  },
  {
   "cell_type": "code",
   "execution_count": 23,
   "id": "2a6c7e0f-c7ba-4ae3-8f35-c98ed83f5ea7",
   "metadata": {},
   "outputs": [
    {
     "name": "stdout",
     "output_type": "stream",
     "text": [
      "the act of traveling by foot\n"
     ]
    }
   ],
   "source": [
    "print(ornek1[0].definition()) #kelimenin tanımı"
   ]
  },
  {
   "cell_type": "code",
   "execution_count": 24,
   "id": "ab6af4c2-7ebf-4fdd-a034-1d995e97214d",
   "metadata": {},
   "outputs": [
    {
     "name": "stdout",
     "output_type": "stream",
     "text": [
      "Benzerlik: 0.5714285714285714\n"
     ]
    }
   ],
   "source": [
    "ornek1 = wordnet.synset(\"walk.n.01\") \n",
    "ornek2 = wordnet.synset(\"run.n.01\")\n",
    "print(\"Benzerlik: \" + str(ornek1.wup_similarity(ornek2)))\n",
    "#iki kelime arasındaki benzerliği gösterir örneğin walk ve run kelimlerinin isim hallerinin benzerliği"
   ]
  },
  {
   "cell_type": "code",
   "execution_count": 25,
   "id": "49f24feb-cbc0-4650-82e1-30f95edfa72a",
   "metadata": {},
   "outputs": [
    {
     "name": "stdout",
     "output_type": "stream",
     "text": [
      "{'play', 'ladder', 'footrace', 'operate', 'test', 'carry', 'function', 'hunt', 'scat', 'melt', 'range', 'race', 'tend', 'guide', 'discharge', 'campaign', 'rivulet', 'run', 'prevail', 'political_campaign', 'streak', 'ply', 'move'}\n"
     ]
    }
   ],
   "source": [
    "es_anlamli_kelimeler=list() #eş anlamlı kelimeleri bulma\n",
    "for i in wordnet.synsets(\"run\"):\n",
    "    es_anlamli_kelimeler.append(i.lemma_names()[0])\n",
    "print(set(es_anlamli_kelimeler))"
   ]
  },
  {
   "cell_type": "code",
   "execution_count": 26,
   "id": "84bc6975-d7db-44b5-85d8-2281e1472f23",
   "metadata": {},
   "outputs": [
    {
     "name": "stdout",
     "output_type": "stream",
     "text": [
      "enjoying: VBG\n",
      "a: DT\n",
      "beautiful: JJ\n",
      "day: NN\n",
      "at: IN\n",
      "the: DT\n",
      "park: NN\n"
     ]
    }
   ],
   "source": [
    "#pos_tag modülü ile kelimelerin türünü gösterir. Örneğin day: NN(isim), beautiful:JJ(sıfat)...\n",
    "cumle = \"enjoying a beautiful day at the park\"\n",
    "kelimeler = nltk.word_tokenize(cumle)\n",
    "pos_tags = nltk.pos_tag(kelimeler)\n",
    "for kelimler, tag in pos_tags:\n",
    "    print(f\"{kelimler}: {tag}\")"
   ]
  },
  {
   "cell_type": "code",
   "execution_count": 27,
   "id": "05d2c88b-81b2-48f9-bf85-fe8a17bb9299",
   "metadata": {},
   "outputs": [],
   "source": [
    "#üsteki pos türlerini wordnet kütüphanesi türüne çeviriyoruz\n",
    "def wordnet_pos_cevir(treebank_tag):\n",
    "    if treebank_tag.startswith('J'):\n",
    "        return wordnet.ADJ\n",
    "    else:\n",
    "        return None"
   ]
  },
  {
   "cell_type": "code",
   "execution_count": 28,
   "id": "002d065e-a1f3-4fae-938e-5d5fec0e4d6a",
   "metadata": {},
   "outputs": [
    {
     "name": "stdout",
     "output_type": "stream",
     "text": [
      "Yeni cümle: feeling grateful little things life\n"
     ]
    }
   ],
   "source": [
    "#sadece sıfat olan kelimeleri wordnet verisetindeki eş anlamları ile değiştiriyoruz\n",
    "def sifatlari_es_anlamlarina_cevir(cumle):\n",
    "    kelimeler = nltk.word_tokenize(cumle)\n",
    "    pos_tags = nltk.pos_tag(kelimeler)\n",
    "    \n",
    "    yeni_cumle = []\n",
    "    \n",
    "    for kelime, tag in pos_tags:\n",
    "        wordnet_pos = wordnet_pos_cevir(tag)\n",
    "        #wordnette eş anlamlısı var ise döngüler çalışır ve eş anlamlılarrdan birini ekler\n",
    "        if wordnet_pos == wordnet.ADJ:\n",
    "            synsets = wordnet.synsets(kelime, pos=wordnet_pos)\n",
    "            if synsets:\n",
    "                synonyms = [lemma.name() for synset in synsets for lemma in synset.lemmas()]\n",
    "                if synonyms:\n",
    "                    synonym = random.choice(synonyms)\n",
    "                    yeni_cumle.append(synonym)\n",
    "                else:\n",
    "                    yeni_cumle.append(kelime)\n",
    "            else:\n",
    "                yeni_cumle.append(kelime)\n",
    "        else:\n",
    "            yeni_cumle.append(kelime)\n",
    "    \n",
    "    return ' '.join(yeni_cumle)\n",
    "\n",
    "cumle = dataFrame.Text[5]\n",
    "yeni_cumle = sifatlari_es_anlamlarina_cevir(cumle)\n",
    "print(f\"Yeni cümle: {yeni_cumle}\")"
   ]
  },
  {
   "cell_type": "code",
   "execution_count": 34,
   "id": "eb52ee65-fb6e-4ea7-b90c-f60ab2b79841",
   "metadata": {},
   "outputs": [
    {
     "name": "stdout",
     "output_type": "stream",
     "text": [
      "enjoying beautiful day park\n",
      "traffic severe morning\n",
      "finished amazing workout\n",
      "aroused forthcoming weekend getaway\n",
      "trying new recipe dinner tonight\n",
      "feeling grateful picayune things life\n",
      "rainy days call intimate blankets hot cocoa\n",
      "new movie release mustwatch\n",
      "political discussions heating timeline\n",
      "missing summer vibes beach days\n"
     ]
    }
   ],
   "source": [
    "#örnek olarak sıfatları değişmiş cümleler\n",
    "for i in range(10):\n",
    "    print(sifatlari_es_anlamlarina_cevir(dataFrame.Text[i]))"
   ]
  },
  {
   "cell_type": "markdown",
   "id": "213d8784-7ef4-4227-935b-fcdb75d1cdf8",
   "metadata": {},
   "source": [
    "### Değişimler\n",
    "#### traffic terrible morning --> traffic frightful morning \n",
    "\n",
    "#### feeling grateful little things life\t--> feeling grateful petty things life\n",
    "\n",
    "##### ( her yeniden çalıştırmada cümleler değişir )"
   ]
  },
  {
   "cell_type": "code",
   "execution_count": 30,
   "id": "2e7e305f-496f-4a9e-ae1a-32e659ded1bb",
   "metadata": {},
   "outputs": [],
   "source": [
    "#es anlamli olan kelimeleri veri setine ekliyoruz bu işlemi tekrar sayısı kadar birden çok kez yapıyoruz ki daha fazla cümle üretilsin\n",
    "def es_anlamlilari_verisetine_ekle(dataframe, text, sentiment, tekrar):\n",
    "    for _ in range(tekrar):\n",
    "        yeni_satirlar = []\n",
    "\n",
    "        for i in range(len(dataframe)):\n",
    "            cumle = dataframe.iloc[i][text]\n",
    "            duygu = dataframe.iloc[i][sentiment]\n",
    "            yeni_cumle = sifatlari_es_anlamlarina_cevir(cumle)\n",
    "            \n",
    "            yeni_satirlar.append({text: yeni_cumle, sentiment: duygu})\n",
    "\n",
    "        #oluşturdğumuz veri setlerini birleştirme işlemi\n",
    "        new_df = pd.DataFrame(yeni_satirlar)\n",
    "        dataframe = pd.concat([dataframe, new_df], ignore_index=True)\n",
    "\n",
    "        #tekrar eden öğeleri kaldırma işlemi\n",
    "        dataframe = dataframe.drop_duplicates(subset=text, keep='first')\n",
    "    \n",
    "    return dataframe\n"
   ]
  },
  {
   "cell_type": "code",
   "execution_count": 31,
   "id": "4d6fe5d4-6e7b-4c04-b7b6-c821afba84ed",
   "metadata": {},
   "outputs": [],
   "source": [
    "#text ve sentiment sutünlarını yeni dataframe ekliyoruz\n",
    "yeni_dataframe = es_anlamlilari_verisetine_ekle(dataFrame, \"Text\", \"Sentiment\", tekrar=5)\n"
   ]
  },
  {
   "cell_type": "code",
   "execution_count": 32,
   "id": "50d366db-a47b-42e6-9e3e-5357d1a981b7",
   "metadata": {},
   "outputs": [
    {
     "data": {
      "text/html": [
       "<div>\n",
       "<style scoped>\n",
       "    .dataframe tbody tr th:only-of-type {\n",
       "        vertical-align: middle;\n",
       "    }\n",
       "\n",
       "    .dataframe tbody tr th {\n",
       "        vertical-align: top;\n",
       "    }\n",
       "\n",
       "    .dataframe thead th {\n",
       "        text-align: right;\n",
       "    }\n",
       "</style>\n",
       "<table border=\"1\" class=\"dataframe\">\n",
       "  <thead>\n",
       "    <tr style=\"text-align: right;\">\n",
       "      <th></th>\n",
       "      <th>Text</th>\n",
       "      <th>Sentiment</th>\n",
       "    </tr>\n",
       "  </thead>\n",
       "  <tbody>\n",
       "    <tr>\n",
       "      <th>0</th>\n",
       "      <td>enjoying beautiful day park</td>\n",
       "      <td>positive</td>\n",
       "    </tr>\n",
       "    <tr>\n",
       "      <th>1</th>\n",
       "      <td>traffic terrible morning</td>\n",
       "      <td>negative</td>\n",
       "    </tr>\n",
       "    <tr>\n",
       "      <th>2</th>\n",
       "      <td>finished amazing workout</td>\n",
       "      <td>positive</td>\n",
       "    </tr>\n",
       "    <tr>\n",
       "      <th>3</th>\n",
       "      <td>excited upcoming weekend getaway</td>\n",
       "      <td>positive</td>\n",
       "    </tr>\n",
       "    <tr>\n",
       "      <th>4</th>\n",
       "      <td>trying new recipe dinner tonight</td>\n",
       "      <td>neutral</td>\n",
       "    </tr>\n",
       "    <tr>\n",
       "      <th>...</th>\n",
       "      <td>...</td>\n",
       "      <td>...</td>\n",
       "    </tr>\n",
       "    <tr>\n",
       "      <th>4513</th>\n",
       "      <td>tearaway delight world brainish fairy tales</td>\n",
       "      <td>whimsy</td>\n",
       "    </tr>\n",
       "    <tr>\n",
       "      <th>4515</th>\n",
       "      <td>credits roll silent sense nostalgia washes red...</td>\n",
       "      <td>nostalgia</td>\n",
       "    </tr>\n",
       "    <tr>\n",
       "      <th>4519</th>\n",
       "      <td>visited art gallery appreciating brushstrokes ...</td>\n",
       "      <td>joy</td>\n",
       "    </tr>\n",
       "    <tr>\n",
       "      <th>4523</th>\n",
       "      <td>got bland tire way of_import meeting talk seri...</td>\n",
       "      <td>bad</td>\n",
       "    </tr>\n",
       "    <tr>\n",
       "      <th>4524</th>\n",
       "      <td>organizing community cleanup event undefended ...</td>\n",
       "      <td>neutral</td>\n",
       "    </tr>\n",
       "  </tbody>\n",
       "</table>\n",
       "<p>2997 rows × 2 columns</p>\n",
       "</div>"
      ],
      "text/plain": [
       "                                                   Text        Sentiment\n",
       "0                           enjoying beautiful day park       positive  \n",
       "1                              traffic terrible morning       negative  \n",
       "2                              finished amazing workout       positive  \n",
       "3                      excited upcoming weekend getaway       positive  \n",
       "4                      trying new recipe dinner tonight       neutral   \n",
       "...                                                 ...              ...\n",
       "4513        tearaway delight world brainish fairy tales   whimsy        \n",
       "4515  credits roll silent sense nostalgia washes red...       nostalgia \n",
       "4519  visited art gallery appreciating brushstrokes ...             joy \n",
       "4523  got bland tire way of_import meeting talk seri...             bad \n",
       "4524  organizing community cleanup event undefended ...         neutral \n",
       "\n",
       "[2997 rows x 2 columns]"
      ]
     },
     "execution_count": 32,
     "metadata": {},
     "output_type": "execute_result"
    }
   ],
   "source": [
    "#ana veri setindeki 732 satırlık yorum 3000+ satıra çıkarılmıştır.\n",
    "yeni_dataframe[[\"Text\",\"Sentiment\"]]"
   ]
  },
  {
   "cell_type": "code",
   "execution_count": 33,
   "id": "bd1f7f4b-d2c4-4e3a-a63f-e6aec4dc6c98",
   "metadata": {},
   "outputs": [],
   "source": [
    "#yeni veri setini kayıt için\n",
    "#yeni_dataframe.to_csv('yeni_veri_seti.csv', index=False)\n"
   ]
  },
  {
   "cell_type": "markdown",
   "id": "dc373b50-1fdb-4420-9ecb-8a22753eb666",
   "metadata": {},
   "source": [
    "## ÖZET: Veri temizleme işlemi yapıldıktan sonra metin verilerinin modeller tarafından daha iyi öğrenilmesi için veri çoğaltma işlemi yapılır. Bu projede cümlelerin eş anlamlıları eklenerek veri miktarı artırılmıştır. Bu sayede basit düzeydeki modeller daha çok veri ile öğrenme yapabilir."
   ]
  },
  {
   "cell_type": "code",
   "execution_count": null,
   "id": "caac1c15-70ec-489f-b9af-bfb660bc49e9",
   "metadata": {},
   "outputs": [],
   "source": []
  }
 ],
 "metadata": {
  "kernelspec": {
   "display_name": "Python 3 (ipykernel)",
   "language": "python",
   "name": "python3"
  },
  "language_info": {
   "codemirror_mode": {
    "name": "ipython",
    "version": 3
   },
   "file_extension": ".py",
   "mimetype": "text/x-python",
   "name": "python",
   "nbconvert_exporter": "python",
   "pygments_lexer": "ipython3",
   "version": "3.11.5"
  }
 },
 "nbformat": 4,
 "nbformat_minor": 5
}
